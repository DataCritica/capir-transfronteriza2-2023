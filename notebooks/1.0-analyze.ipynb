{
 "cells": [
  {
   "cell_type": "code",
   "execution_count": null,
   "metadata": {},
   "outputs": [],
   "source": []
  }
 ],
 "metadata": {
  "kernelspec": {
   "display_name": "capir_transfronteriza2_2023-f1a4fPBO",
   "language": "python",
   "name": "python3"
  },
  "language_info": {
   "name": "python",
   "version": "3.8.10"
  },
  "orig_nbformat": 4,
  "vscode": {
   "interpreter": {
    "hash": "4837a85e6f6bb120e7c179e1571e8aa9766ee36a920ae63981beb2271bfd9add"
   }
  }
 },
 "nbformat": 4,
 "nbformat_minor": 2
}
