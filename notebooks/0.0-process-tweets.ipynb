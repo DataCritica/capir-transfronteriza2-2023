{
 "cells": [
  {
   "attachments": {},
   "cell_type": "markdown",
   "metadata": {},
   "source": [
    "### Imports"
   ]
  },
  {
   "cell_type": "code",
   "execution_count": 8,
   "metadata": {},
   "outputs": [],
   "source": [
    "import os\n",
    "import re\n",
    "import pandas as pd\n",
    "import capir_transfronteriza2_2023.data.load as load"
   ]
  },
  {
   "attachments": {},
   "cell_type": "markdown",
   "metadata": {},
   "source": [
    "### Load data"
   ]
  },
  {
   "cell_type": "code",
   "execution_count": 9,
   "metadata": {},
   "outputs": [],
   "source": [
    "data_raw = load.data_raw\n",
    "data_processed = load.data_processed\n",
    "data_urls = load.data_urls\n",
    "data_ids = load.data_ids\n",
    "data_jsonl = load.data_jsonl"
   ]
  },
  {
   "attachments": {},
   "cell_type": "markdown",
   "metadata": {},
   "source": [
    "### Process data"
   ]
  },
  {
   "cell_type": "code",
   "execution_count": 23,
   "metadata": {},
   "outputs": [],
   "source": [
    "# Create a list of files from directory\n",
    "files = os.listdir(data_urls)\n",
    "\n",
    "for f in files:\n",
    "    # Get filename without extension\n",
    "    filename = f.split('.')[0]\n",
    "    # Read 'csv' file as dataframe\n",
    "    df = pd.read_csv(f'{data_urls}/{f}', header=None, names=['url'])\n",
    "    # Apply regex to find a pattern in a column and create a new column with the results\n",
    "    df['id'] = df['url'].apply(lambda x: re.findall(r'twitter.com\\/\\w+\\/status\\/(\\d+)', str(x))[0])\n",
    "    # Create a list with column values\n",
    "    ids = df['id'].to_list()\n",
    "    # Create a new file\n",
    "    with open(rf'{data_ids}/{filename}.txt', 'w') as f:\n",
    "        # Write values from list in new lines\n",
    "        f.write('\\n'.join(ids))"
   ]
  }
 ],
 "metadata": {
  "kernelspec": {
   "display_name": "capir_transfronteriza2_2023-f1a4fPBO",
   "language": "python",
   "name": "python3"
  },
  "language_info": {
   "codemirror_mode": {
    "name": "ipython",
    "version": 3
   },
   "file_extension": ".py",
   "mimetype": "text/x-python",
   "name": "python",
   "nbconvert_exporter": "python",
   "pygments_lexer": "ipython3",
   "version": "3.8.10"
  },
  "orig_nbformat": 4,
  "vscode": {
   "interpreter": {
    "hash": "4837a85e6f6bb120e7c179e1571e8aa9766ee36a920ae63981beb2271bfd9add"
   }
  }
 },
 "nbformat": 4,
 "nbformat_minor": 2
}
