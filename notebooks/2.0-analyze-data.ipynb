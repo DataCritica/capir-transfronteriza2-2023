{
 "cells": [
  {
   "attachments": {},
   "cell_type": "markdown",
   "metadata": {},
   "source": [
    "### Imports"
   ]
  },
  {
   "cell_type": "code",
   "execution_count": 48,
   "metadata": {},
   "outputs": [],
   "source": [
    "import pandas as pd\n",
    "import preprocessor as p\n",
    "from emoji import demojize\n",
    "import capir_transfronteriza2_2023.data.load as load\n",
    "\n",
    "import warnings\n",
    "warnings.filterwarnings(\"ignore\")"
   ]
  },
  {
   "attachments": {},
   "cell_type": "markdown",
   "metadata": {},
   "source": [
    "### Load data"
   ]
  },
  {
   "cell_type": "code",
   "execution_count": 46,
   "metadata": {},
   "outputs": [],
   "source": [
    "data_processed = load.data_processed"
   ]
  },
  {
   "attachments": {},
   "cell_type": "markdown",
   "metadata": {},
   "source": [
    "### Read data"
   ]
  },
  {
   "cell_type": "code",
   "execution_count": 49,
   "metadata": {},
   "outputs": [
    {
     "name": "stdout",
     "output_type": "stream",
     "text": [
      "(200827, 62)\n"
     ]
    },
    {
     "data": {
      "text/html": [
       "<div>\n",
       "<style scoped>\n",
       "    .dataframe tbody tr th:only-of-type {\n",
       "        vertical-align: middle;\n",
       "    }\n",
       "\n",
       "    .dataframe tbody tr th {\n",
       "        vertical-align: top;\n",
       "    }\n",
       "\n",
       "    .dataframe thead th {\n",
       "        text-align: right;\n",
       "    }\n",
       "</style>\n",
       "<table border=\"1\" class=\"dataframe\">\n",
       "  <thead>\n",
       "    <tr style=\"text-align: right;\">\n",
       "      <th></th>\n",
       "      <th>query</th>\n",
       "      <th>id</th>\n",
       "      <th>timestamp_utc</th>\n",
       "      <th>local_time</th>\n",
       "      <th>user_screen_name</th>\n",
       "      <th>text</th>\n",
       "      <th>possibly_sensitive</th>\n",
       "      <th>retweet_count</th>\n",
       "      <th>like_count</th>\n",
       "      <th>reply_count</th>\n",
       "      <th>...</th>\n",
       "      <th>media_files</th>\n",
       "      <th>media_types</th>\n",
       "      <th>media_alt_texts</th>\n",
       "      <th>mentioned_names</th>\n",
       "      <th>mentioned_ids</th>\n",
       "      <th>hashtags</th>\n",
       "      <th>intervention_type</th>\n",
       "      <th>intervention_text</th>\n",
       "      <th>intervention_url</th>\n",
       "      <th>country</th>\n",
       "    </tr>\n",
       "  </thead>\n",
       "  <tbody>\n",
       "    <tr>\n",
       "      <th>0</th>\n",
       "      <td>from:TommyZambranoM</td>\n",
       "      <td>1.638175e+18</td>\n",
       "      <td>1679406309</td>\n",
       "      <td>2023-03-21T13:45:09</td>\n",
       "      <td>TommyZambranoM</td>\n",
       "      <td>Los Nacionalistas para lograr la renovación de...</td>\n",
       "      <td>0.0</td>\n",
       "      <td>30.0</td>\n",
       "      <td>117.0</td>\n",
       "      <td>58.0</td>\n",
       "      <td>...</td>\n",
       "      <td>1638174913906327552_n59p6Id5p1YViXtP.mp4</td>\n",
       "      <td>video</td>\n",
       "      <td>NaN</td>\n",
       "      <td>pnh_oficial</td>\n",
       "      <td>201589327</td>\n",
       "      <td>librenuncamas</td>\n",
       "      <td>NaN</td>\n",
       "      <td>NaN</td>\n",
       "      <td>NaN</td>\n",
       "      <td>Honduras</td>\n",
       "    </tr>\n",
       "    <tr>\n",
       "      <th>1</th>\n",
       "      <td>from:TommyZambranoM</td>\n",
       "      <td>1.637800e+18</td>\n",
       "      <td>1679316989</td>\n",
       "      <td>2023-03-20T12:56:29</td>\n",
       "      <td>TommyZambranoM</td>\n",
       "      <td>#LasÑangaradas de la Semana:\\n1) Sin comer tie...</td>\n",
       "      <td>0.0</td>\n",
       "      <td>78.0</td>\n",
       "      <td>292.0</td>\n",
       "      <td>178.0</td>\n",
       "      <td>...</td>\n",
       "      <td>1637800275900604418_Frqiq2uWwAAq6ZM.jpg</td>\n",
       "      <td>photo</td>\n",
       "      <td>NaN</td>\n",
       "      <td>NaN</td>\n",
       "      <td>NaN</td>\n",
       "      <td>lasñangaradas</td>\n",
       "      <td>NaN</td>\n",
       "      <td>NaN</td>\n",
       "      <td>NaN</td>\n",
       "      <td>Honduras</td>\n",
       "    </tr>\n",
       "    <tr>\n",
       "      <th>2</th>\n",
       "      <td>from:TommyZambranoM</td>\n",
       "      <td>1.637795e+18</td>\n",
       "      <td>1679315747</td>\n",
       "      <td>2023-03-20T12:35:47</td>\n",
       "      <td>TommyZambranoM</td>\n",
       "      <td>Mira el futuro con Fe , llénate de esperanza y...</td>\n",
       "      <td>NaN</td>\n",
       "      <td>12.0</td>\n",
       "      <td>61.0</td>\n",
       "      <td>14.0</td>\n",
       "      <td>...</td>\n",
       "      <td>NaN</td>\n",
       "      <td>NaN</td>\n",
       "      <td>NaN</td>\n",
       "      <td>NaN</td>\n",
       "      <td>NaN</td>\n",
       "      <td>tommyzambrano</td>\n",
       "      <td>NaN</td>\n",
       "      <td>NaN</td>\n",
       "      <td>NaN</td>\n",
       "      <td>Honduras</td>\n",
       "    </tr>\n",
       "  </tbody>\n",
       "</table>\n",
       "<p>3 rows × 62 columns</p>\n",
       "</div>"
      ],
      "text/plain": [
       "                 query            id  timestamp_utc           local_time   \n",
       "0  from:TommyZambranoM  1.638175e+18     1679406309  2023-03-21T13:45:09  \\\n",
       "1  from:TommyZambranoM  1.637800e+18     1679316989  2023-03-20T12:56:29   \n",
       "2  from:TommyZambranoM  1.637795e+18     1679315747  2023-03-20T12:35:47   \n",
       "\n",
       "  user_screen_name                                               text   \n",
       "0   TommyZambranoM  Los Nacionalistas para lograr la renovación de...  \\\n",
       "1   TommyZambranoM  #LasÑangaradas de la Semana:\\n1) Sin comer tie...   \n",
       "2   TommyZambranoM  Mira el futuro con Fe , llénate de esperanza y...   \n",
       "\n",
       "  possibly_sensitive  retweet_count  like_count  reply_count  ...   \n",
       "0                0.0           30.0       117.0         58.0  ...  \\\n",
       "1                0.0           78.0       292.0        178.0  ...   \n",
       "2                NaN           12.0        61.0         14.0  ...   \n",
       "\n",
       "                                media_files media_types media_alt_texts   \n",
       "0  1638174913906327552_n59p6Id5p1YViXtP.mp4       video             NaN  \\\n",
       "1   1637800275900604418_Frqiq2uWwAAq6ZM.jpg       photo             NaN   \n",
       "2                                       NaN         NaN             NaN   \n",
       "\n",
       "   mentioned_names  mentioned_ids       hashtags intervention_type   \n",
       "0      pnh_oficial      201589327  librenuncamas               NaN  \\\n",
       "1              NaN            NaN  lasñangaradas               NaN   \n",
       "2              NaN            NaN  tommyzambrano               NaN   \n",
       "\n",
       "  intervention_text intervention_url   country  \n",
       "0               NaN              NaN  Honduras  \n",
       "1               NaN              NaN  Honduras  \n",
       "2               NaN              NaN  Honduras  \n",
       "\n",
       "[3 rows x 62 columns]"
      ]
     },
     "execution_count": 49,
     "metadata": {},
     "output_type": "execute_result"
    }
   ],
   "source": [
    "# Read csv file as dataframe\n",
    "df = pd.read_csv(f'{data_processed}/tweets.csv')\n",
    "\n",
    "# Print dataframe shape\n",
    "print(df.shape)\n",
    "\n",
    "# Show dataframe\n",
    "df.head(3)"
   ]
  },
  {
   "attachments": {},
   "cell_type": "markdown",
   "metadata": {},
   "source": [
    "### Process data"
   ]
  },
  {
   "cell_type": "code",
   "execution_count": 16,
   "metadata": {},
   "outputs": [
    {
     "data": {
      "text/plain": [
       "country\n",
       "Colombia    57741\n",
       "Honduras    56212\n",
       "Brasil      52155\n",
       "Ecuador     34717\n",
       "Name: count, dtype: int64"
      ]
     },
     "execution_count": 16,
     "metadata": {},
     "output_type": "execute_result"
    }
   ],
   "source": [
    "df['country'].value_counts()"
   ]
  },
  {
   "cell_type": "code",
   "execution_count": 39,
   "metadata": {},
   "outputs": [
    {
     "data": {
      "text/plain": [
       "['Honduras', 'Brasil', 'Ecuador', 'Colombia']"
      ]
     },
     "execution_count": 39,
     "metadata": {},
     "output_type": "execute_result"
    }
   ],
   "source": [
    "country_list = df['country'].unique().tolist()\n",
    "\n",
    "countries = list(filter(lambda x: isinstance(x, str), country_list))\n",
    "\n",
    "countries"
   ]
  },
  {
   "cell_type": "code",
   "execution_count": 50,
   "metadata": {},
   "outputs": [
    {
     "name": "stdout",
     "output_type": "stream",
     "text": [
      "Honduras: (55733, 4)\n",
      "Brasil: (47697, 4)\n",
      "Ecuador: (34693, 4)\n",
      "Colombia: (57477, 4)\n"
     ]
    }
   ],
   "source": [
    "for i in range(len(countries)):\n",
    "\n",
    "    # Filter data\n",
    "    country = df[df['country'] == countries[i]]\n",
    "\n",
    "    # Remove duplicates\n",
    "    country.drop_duplicates(subset=\"text\", keep='first', inplace=True)\n",
    "\n",
    "    # Remove urls\n",
    "    p.set_options(p.OPT.URL)\n",
    "    country['text_clean'] = country['text'].apply(lambda x: p.clean(x))\n",
    "\n",
    "    # Tokenize mentions and hashtags\n",
    "    p.set_options(p.OPT.MENTION, p.OPT.HASHTAG)\n",
    "    country['text_clean'] = country['text_clean'].apply(lambda x: p.tokenize(x))\n",
    "\n",
    "    # Replace emojis with descriptions\n",
    "    country['text_clean'] = country['text_clean'].apply(lambda x: demojize(x))\n",
    "\n",
    "    # Filter columns\n",
    "    country_fil = country[['user_screen_name', 'country', 'text', 'text_clean']]\n",
    "\n",
    "    # Set up filename in lower case\n",
    "    filename = countries[i].lower()\n",
    "\n",
    "    # Print dataframe shape\n",
    "    print(f'{countries[i]}: {country_fil.shape}')\n",
    "    \n",
    "    # Save dataframe as 'csv' file\n",
    "    country_fil.to_csv(f'{data_processed}/{filename}.csv', index=False)\n"
   ]
  }
 ],
 "metadata": {
  "kernelspec": {
   "display_name": "capir_transfronteriza2_2023-f1a4fPBO",
   "language": "python",
   "name": "python3"
  },
  "language_info": {
   "codemirror_mode": {
    "name": "ipython",
    "version": 3
   },
   "file_extension": ".py",
   "mimetype": "text/x-python",
   "name": "python",
   "nbconvert_exporter": "python",
   "pygments_lexer": "ipython3",
   "version": "3.8.10"
  },
  "orig_nbformat": 4
 },
 "nbformat": 4,
 "nbformat_minor": 2
}
