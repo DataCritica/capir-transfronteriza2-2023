{
 "cells": [
  {
   "attachments": {},
   "cell_type": "markdown",
   "metadata": {},
   "source": [
    "### Imports"
   ]
  },
  {
   "cell_type": "code",
   "execution_count": 10,
   "metadata": {},
   "outputs": [],
   "source": [
    "import os\n",
    "import pandas as pd\n",
    "from tqdm import tqdm\n",
    "import capir_transfronteriza2_2023.data.load as load"
   ]
  },
  {
   "attachments": {},
   "cell_type": "markdown",
   "metadata": {},
   "source": [
    "### Load data"
   ]
  },
  {
   "cell_type": "code",
   "execution_count": 13,
   "metadata": {},
   "outputs": [],
   "source": [
    "data_ids = load.data_ids\n",
    "data_jsonl = load.data_jsonl\n",
    "data_processed = load.data_processed"
   ]
  },
  {
   "attachments": {},
   "cell_type": "markdown",
   "metadata": {},
   "source": [
    "### Collect tweets with [`twarc2`](https://twarc-project.readthedocs.io/en/latest/twarc2_en_us/)"
   ]
  },
  {
   "cell_type": "code",
   "execution_count": 9,
   "metadata": {},
   "outputs": [
    {
     "name": "stderr",
     "output_type": "stream",
     "text": [
      "100%|██████████| Processed 2716/2716 lines of input file [00:33<00:00, 79.97it/s] \n",
      "100%|██████████| Processed 2564/2564 lines of input file [00:20<00:00, 126.37it/s]\n",
      "100%|██████████| 2/2 [00:55<00:00, 27.78s/it]\n"
     ]
    }
   ],
   "source": [
    "# Create a list of files from directory\n",
    "files = os.listdir(data_ids)\n",
    "\n",
    "\"\"\"\n",
    "Execute a shell command to hydrate tweets data from tweets \n",
    "identifiers and redirect the output to a jsonl file\n",
    "\"\"\"\n",
    "for i in tqdm(range(len(files))):\n",
    "    # Get filename without extension\n",
    "    filename = files[i].split('.')[0]\n",
    "    # Execute a shell command to get tweets JSON from tweets identifiers\n",
    "    os.system(f\"twarc2 hydrate {data_ids}/{files[i]} ./{filename}.jsonl\")"
   ]
  },
  {
   "attachments": {},
   "cell_type": "markdown",
   "metadata": {},
   "source": [
    "### Convert jsonl to csv files with [`twarc-csv`](https://github.com/DocNow/twarc-csv) plugin"
   ]
  },
  {
   "cell_type": "code",
   "execution_count": null,
   "metadata": {},
   "outputs": [],
   "source": [
    "# Create a list of files from directory\n",
    "jsonls = os.listdir(data_jsonl)\n",
    "\n",
    "for i in tqdm(range(len(jsonls))):\n",
    "    # Get filename without extension\n",
    "    filename = files[i].split('.')[0]\n",
    "    # Execute a shell command to convert jsonl to csv files\n",
    "    os.system(f\"twarc2 csv {data_jsonl}/{jsonls[i]} {data_processed}/{filename}.csv\")"
   ]
  }
 ],
 "metadata": {
  "kernelspec": {
   "display_name": "capir_transfronteriza2_2023-f1a4fPBO",
   "language": "python",
   "name": "python3"
  },
  "language_info": {
   "codemirror_mode": {
    "name": "ipython",
    "version": 3
   },
   "file_extension": ".py",
   "mimetype": "text/x-python",
   "name": "python",
   "nbconvert_exporter": "python",
   "pygments_lexer": "ipython3",
   "version": "3.8.10"
  },
  "orig_nbformat": 4,
  "vscode": {
   "interpreter": {
    "hash": "4837a85e6f6bb120e7c179e1571e8aa9766ee36a920ae63981beb2271bfd9add"
   }
  }
 },
 "nbformat": 4,
 "nbformat_minor": 2
}
