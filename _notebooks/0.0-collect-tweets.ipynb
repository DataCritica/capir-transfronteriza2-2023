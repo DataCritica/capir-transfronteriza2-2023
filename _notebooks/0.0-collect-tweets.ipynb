{
 "cells": [
  {
   "attachments": {},
   "cell_type": "markdown",
   "metadata": {},
   "source": [
    "### Imports"
   ]
  },
  {
   "cell_type": "code",
   "execution_count": 1,
   "metadata": {},
   "outputs": [],
   "source": [
    "import os\n",
    "import pandas as pd\n",
    "import capir_transfronteriza2_2023.data.load as load"
   ]
  },
  {
   "attachments": {},
   "cell_type": "markdown",
   "metadata": {},
   "source": [
    "### Load data"
   ]
  },
  {
   "cell_type": "code",
   "execution_count": 2,
   "metadata": {},
   "outputs": [],
   "source": [
    "data_raw = load.data_raw\n",
    "data_minet = load.data_minet\n",
    "users = load.users"
   ]
  },
  {
   "attachments": {},
   "cell_type": "markdown",
   "metadata": {},
   "source": [
    "### Read data"
   ]
  },
  {
   "cell_type": "code",
   "execution_count": 3,
   "metadata": {},
   "outputs": [
    {
     "data": {
      "text/html": [
       "<div>\n",
       "<style scoped>\n",
       "    .dataframe tbody tr th:only-of-type {\n",
       "        vertical-align: middle;\n",
       "    }\n",
       "\n",
       "    .dataframe tbody tr th {\n",
       "        vertical-align: top;\n",
       "    }\n",
       "\n",
       "    .dataframe thead th {\n",
       "        text-align: right;\n",
       "    }\n",
       "</style>\n",
       "<table border=\"1\" class=\"dataframe\">\n",
       "  <thead>\n",
       "    <tr style=\"text-align: right;\">\n",
       "      <th></th>\n",
       "      <th>nombre</th>\n",
       "      <th>username</th>\n",
       "      <th>pais</th>\n",
       "    </tr>\n",
       "  </thead>\n",
       "  <tbody>\n",
       "    <tr>\n",
       "      <th>0</th>\n",
       "      <td>Nikolas Ferreira</td>\n",
       "      <td>nikolas_dm</td>\n",
       "      <td>Brasil</td>\n",
       "    </tr>\n",
       "    <tr>\n",
       "      <th>1</th>\n",
       "      <td>Pastor Silas Malafaia</td>\n",
       "      <td>PastorMalafaia</td>\n",
       "      <td>Brasil</td>\n",
       "    </tr>\n",
       "    <tr>\n",
       "      <th>2</th>\n",
       "      <td>Brasil Sem Aborto</td>\n",
       "      <td>brasilsemaborto</td>\n",
       "      <td>Brasil</td>\n",
       "    </tr>\n",
       "    <tr>\n",
       "      <th>3</th>\n",
       "      <td>Misión Paz</td>\n",
       "      <td>misionpaz_</td>\n",
       "      <td>Colombia</td>\n",
       "    </tr>\n",
       "    <tr>\n",
       "      <th>4</th>\n",
       "      <td>María Fernanda Cabal</td>\n",
       "      <td>MariaFdaCabal</td>\n",
       "      <td>Colombia</td>\n",
       "    </tr>\n",
       "    <tr>\n",
       "      <th>5</th>\n",
       "      <td>Unidos por la Vida</td>\n",
       "      <td>UnidosxlaVidaCo</td>\n",
       "      <td>Colombia</td>\n",
       "    </tr>\n",
       "    <tr>\n",
       "      <th>6</th>\n",
       "      <td>Mamela Fiallo Flor</td>\n",
       "      <td>MamelaFialloFlo</td>\n",
       "      <td>Ecuador</td>\n",
       "    </tr>\n",
       "    <tr>\n",
       "      <th>7</th>\n",
       "      <td>Esteban Torres Cobo</td>\n",
       "      <td>etorrescobo</td>\n",
       "      <td>Ecuador</td>\n",
       "    </tr>\n",
       "    <tr>\n",
       "      <th>8</th>\n",
       "      <td>Familia Ecuador</td>\n",
       "      <td>_FamiliaEcuador</td>\n",
       "      <td>Ecuador</td>\n",
       "    </tr>\n",
       "    <tr>\n",
       "      <th>9</th>\n",
       "      <td>Roy Santos</td>\n",
       "      <td>RoySantosC</td>\n",
       "      <td>Honduras</td>\n",
       "    </tr>\n",
       "    <tr>\n",
       "      <th>10</th>\n",
       "      <td>Tomás Zambrano</td>\n",
       "      <td>TommyZambranoM</td>\n",
       "      <td>Honduras</td>\n",
       "    </tr>\n",
       "    <tr>\n",
       "      <th>11</th>\n",
       "      <td>Luis Felipe Faraj</td>\n",
       "      <td>luisffaraj</td>\n",
       "      <td>Honduras</td>\n",
       "    </tr>\n",
       "  </tbody>\n",
       "</table>\n",
       "</div>"
      ],
      "text/plain": [
       "                   nombre         username      pais\n",
       "0        Nikolas Ferreira       nikolas_dm    Brasil\n",
       "1   Pastor Silas Malafaia   PastorMalafaia    Brasil\n",
       "2       Brasil Sem Aborto  brasilsemaborto    Brasil\n",
       "3              Misión Paz       misionpaz_  Colombia\n",
       "4    María Fernanda Cabal    MariaFdaCabal  Colombia\n",
       "5      Unidos por la Vida  UnidosxlaVidaCo  Colombia\n",
       "6      Mamela Fiallo Flor  MamelaFialloFlo   Ecuador\n",
       "7     Esteban Torres Cobo      etorrescobo   Ecuador\n",
       "8         Familia Ecuador  _FamiliaEcuador   Ecuador\n",
       "9              Roy Santos       RoySantosC  Honduras\n",
       "10         Tomás Zambrano   TommyZambranoM  Honduras\n",
       "11      Luis Felipe Faraj       luisffaraj  Honduras"
      ]
     },
     "execution_count": 3,
     "metadata": {},
     "output_type": "execute_result"
    }
   ],
   "source": [
    "# Read csv file as dataframe\n",
    "df = pd.read_csv(users)\n",
    "\n",
    "# Show dataframe\n",
    "df"
   ]
  },
  {
   "cell_type": "code",
   "execution_count": 4,
   "metadata": {},
   "outputs": [
    {
     "data": {
      "text/plain": [
       "['nikolas_dm',\n",
       " 'PastorMalafaia',\n",
       " 'brasilsemaborto',\n",
       " 'misionpaz_',\n",
       " 'MariaFdaCabal',\n",
       " 'UnidosxlaVidaCo',\n",
       " 'MamelaFialloFlo',\n",
       " 'etorrescobo',\n",
       " '_FamiliaEcuador',\n",
       " 'RoySantosC',\n",
       " 'TommyZambranoM',\n",
       " 'luisffaraj']"
      ]
     },
     "execution_count": 4,
     "metadata": {},
     "output_type": "execute_result"
    }
   ],
   "source": [
    "# Convert column values to list\n",
    "list_users = df['username'].to_list()\n",
    "\n",
    "# Show list\n",
    "list_users"
   ]
  },
  {
   "attachments": {},
   "cell_type": "markdown",
   "metadata": {},
   "source": [
    "### Collect tweets with [`minet`](https://github.com/medialab/minet)"
   ]
  },
  {
   "cell_type": "code",
   "execution_count": 6,
   "metadata": {},
   "outputs": [
    {
     "name": "stderr",
     "output_type": "stream",
     "text": [
      "Searching for \"from:nikolas_dm\"               \n",
      "Failed attempt because of following exception:                  \n",
      "minet.twitter.exceptions.TwitterPublicAPIRateLimitError\n",
      "Will wait for 0.454 seconds before attempting again.\n",
      "\n",
      "Collecting tweet: 7035 tweets [03:51, 30.37 tweets/s, queries=1]\n",
      "Searching for \"from:PastorMalafaia\"           ]\n",
      "Failed attempt because of following exception:                  \n",
      "minet.twitter.exceptions.TwitterPublicAPIRateLimitError\n",
      "Will wait for 0.679 seconds before attempting again.\n",
      "\n",
      "Failed attempt because of following exception:                   \n",
      "minet.twitter.exceptions.TwitterPublicAPIRateLimitError\n",
      "Will wait for 0.271 seconds before attempting again.\n",
      "\n",
      "Collecting tweet: 10640 tweets [06:26, 25.78 tweets/s, queries=1]"
     ]
    }
   ],
   "source": [
    "\"\"\"\n",
    "Execute a shell command to scrape data from twitter, \n",
    "collect all the tweets from a user and redirect the \n",
    "output to a csv file\n",
    "\"\"\"\n",
    "for i in range(len(list_users)):\n",
    "    os.system(f\"minet twitter scrape tweets 'from:{list_users[i]}' > {data_minet}/{list_users[i]}.csv\")"
   ]
  }
 ],
 "metadata": {
  "kernelspec": {
   "display_name": "attack_detector-WWidxv8W",
   "language": "python",
   "name": "python3"
  },
  "language_info": {
   "codemirror_mode": {
    "name": "ipython",
    "version": 3
   },
   "file_extension": ".py",
   "mimetype": "text/x-python",
   "name": "python",
   "nbconvert_exporter": "python",
   "pygments_lexer": "ipython3",
   "version": "3.8.10"
  },
  "orig_nbformat": 4,
  "vscode": {
   "interpreter": {
    "hash": "afa7c3ba8886ddf53ab8e4d3b531da4cfa0e8605527ab28372c0cfbdd63fd184"
   }
  }
 },
 "nbformat": 4,
 "nbformat_minor": 2
}
